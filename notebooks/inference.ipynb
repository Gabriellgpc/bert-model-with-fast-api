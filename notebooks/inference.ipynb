{
 "cells": [
  {
   "cell_type": "markdown",
   "metadata": {},
   "source": [
    "# Just a notebook to runs some inference tests"
   ]
  },
  {
   "cell_type": "markdown",
   "metadata": {},
   "source": [
    "## Imports"
   ]
  },
  {
   "cell_type": "code",
   "execution_count": null,
   "metadata": {},
   "outputs": [],
   "source": [
    "import tensorflow_text as text  # Registers the ops.\n",
    "import tensorflow as tf\n",
    "import numpy as np"
   ]
  },
  {
   "cell_type": "markdown",
   "metadata": {},
   "source": [
    "## Some functions"
   ]
  },
  {
   "cell_type": "code",
   "execution_count": null,
   "metadata": {},
   "outputs": [],
   "source": [
    "def setup_gpu(gpu_id=0, allow_memory_growth=True):\n",
    "\n",
    "    gpus = tf.config.list_physical_devices('GPU')\n",
    "    if gpus:\n",
    "        try:\n",
    "            gpu = gpus[gpu_id] if gpu_id <= len(gpus) else gpus[0]\n",
    "            if len(gpus) > 1:\n",
    "                tf.config.experimental.set_visible_devices(gpus[gpu_id], 'GPU')\n",
    "            \n",
    "            if allow_memory_growth:\n",
    "                tf.config.experimental.set_memory_growth(gpu, allow_memory_growth)\n",
    "\n",
    "        except RuntimeError as e:\n",
    "            return\n",
    "\n",
    "setup_gpu(0)"
   ]
  },
  {
   "cell_type": "markdown",
   "metadata": {},
   "source": [
    "## Load model and preprocessor"
   ]
  },
  {
   "cell_type": "code",
   "execution_count": null,
   "metadata": {},
   "outputs": [],
   "source": [
    "loaded_preprocessor = tf.saved_model.load('/home/condados/workarea/freelancer/build-bert-model-with-fast-api/workspace/assets/my_models_BERT/2022_02_07_chinese_sentence_classification_bert_multi_cased_preprocess')\n",
    "loaded_model = tf.saved_model.load('/home/condados/workarea/freelancer/build-bert-model-with-fast-api/workspace/assets/my_models_BERT/2022_02_07_chinese_sentence_classification_pre_trained_model')"
   ]
  },
  {
   "cell_type": "markdown",
   "metadata": {},
   "source": [
    "## Some inference tests"
   ]
  },
  {
   "cell_type": "code",
   "execution_count": null,
   "metadata": {},
   "outputs": [],
   "source": [
    "address = \"觀塘藍田啟田道71號藍田（西區）社區中心\"\n",
    "location = \"啟田道67號\"\n",
    "\n",
    "preprocessed_text = loaded_preprocessor([np.array([address]), np.array([location])])\n",
    "output = loaded_model(preprocessed_text)\n",
    "score = tf.argmax(tf.sigmoid(output), axis = 0)"
   ]
  }
 ],
 "metadata": {
  "interpreter": {
   "hash": "c1b1fb9e1ef0ea8ac84863651688c7d2d4c9bbf1f1282f700569efad1df0aeff"
  },
  "kernelspec": {
   "display_name": "Python 3.9.5 ('venv': venv)",
   "language": "python",
   "name": "python3"
  },
  "language_info": {
   "codemirror_mode": {
    "name": "ipython",
    "version": 3
   },
   "file_extension": ".py",
   "mimetype": "text/x-python",
   "name": "python",
   "nbconvert_exporter": "python",
   "pygments_lexer": "ipython3",
   "version": "3.9.5"
  },
  "orig_nbformat": 4
 },
 "nbformat": 4,
 "nbformat_minor": 2
}
